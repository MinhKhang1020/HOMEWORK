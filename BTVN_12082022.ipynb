{
 "cells": [
  {
   "cell_type": "code",
   "execution_count": 3,
   "id": "9c4dd639",
   "metadata": {},
   "outputs": [
    {
     "name": "stdout",
     "output_type": "stream",
     "text": [
      "Nhap thang: 8\n",
      "Nhap nam: 2022\n"
     ]
    }
   ],
   "source": [
    "import turtle as t\n",
    "import datetime\n",
    "import calendar\n",
    "\n",
    "thang = int(input('Nhap thang: '))\n",
    "nam = int(input('Nhap nam: '))\n",
    "months = calendar.month_name\n",
    "day_headings = ('Mon','Tue','Wed','Thu','Fri','Sat','Sun')\n",
    "text_style = (\"Arial\", 14, \"bold\")\n",
    "year_style = (\"Courier\", 30, \"italic\")\n",
    "month_style = (\"Arial\", 45, \"bold\")\n",
    "a = 30\n",
    "\n",
    "def setupTurtle():\n",
    "    t.pencolor('black')\n",
    "    t.color('black')\n",
    "    t.speed('fastest')\n",
    "    t.pensize(1)\n",
    "    t.penup()\n",
    "    \n",
    "def setweeks(thang, nam):\n",
    "    ngay = calendar.monthrange(nam, thang)[1]\n",
    "    days = ''\n",
    "    for i in range(1, ngay+1, 1):\n",
    "        wd = (datetime.datetime(nam, thang, i).weekday() + 1) % 7\n",
    "        if wd != 6:\n",
    "            days += str(wd)\n",
    "        else:\n",
    "            days += str(wd) + ' '\n",
    "    return days\n",
    "\n",
    "def drawcalendar(thang, nam):\n",
    "    t.color('black')\n",
    "    t.goto(-5.5*a, 3*a)\n",
    "    for i in range(0,7,1):\n",
    "        if i < 6:\n",
    "            t.write(day_headings[i], move=False, align='center', font=text_style)\n",
    "        else:\n",
    "            t.color('red')\n",
    "            t.write(day_headings[i], move=False, align='center', font=text_style)\n",
    "        t.forward(a*1.75)\n",
    "    t.color('gray')\n",
    "    t.goto(-6.2*a, 2.75*a)\n",
    "    t.pendown()\n",
    "    t.goto(5.8*a, 2.75*a)\n",
    "    t.penup()\n",
    "    t.goto(-6*a, 2*a)\n",
    "\n",
    "    days = setweeks(thang, nam)\n",
    "    weeks = days.strip().split()\n",
    "    t.color('black')\n",
    "    stt = 1\n",
    "    for idw, w in enumerate(weeks):\n",
    "        t.goto(-5.5*a, (2-idw)*a)\n",
    "        start = int(w[0])\n",
    "        stop = int(w[-1])\n",
    "        for i in range(0,7,1):\n",
    "            if i >= start and i <= stop:\n",
    "                t.color('black') if i != 6 else t.color('red')\n",
    "                t.write(str(stt), move=False, align='center', font=text_style)\n",
    "                stt += 1\n",
    "            else:\n",
    "                t.write('', move=False, align='center', font=text_style)\n",
    "            t.forward(a*1.75)\n",
    "\n",
    "def calendarTitle():\n",
    "    t.goto(5.5*a, 6*a)\n",
    "    t.pendown()\n",
    "    t.write(months[thang], move=False, align='right', font=month_style)\n",
    "    t.goto(5.5*a, 5*a)\n",
    "    t.color('red')\n",
    "    t.write(nam, move=False, align='right', font=year_style)\n",
    "    t.penup()\n",
    "    \n",
    "\n",
    "if thang <= 0 or thang > 13 or nam <= 0:\n",
    "    print(f'Lỗi nhập dữ liệu {thang} - {nam}')\n",
    "else:        \n",
    "    setupTurtle()\n",
    "    calendarTitle()\n",
    "    drawcalendar(thang, nam)\n",
    "    t.hideturtle()\n",
    "    t.done()\n",
    "    "
   ]
  },
  {
   "cell_type": "code",
   "execution_count": 3,
   "id": "d4bebe2e",
   "metadata": {},
   "outputs": [
    {
     "name": "stdout",
     "output_type": "stream",
     "text": [
      "Nhap chuoi ki tu: abd 34 tr13 85 sh 342 21 def\n",
      "['abd', '34', 'tr13', '85', 'sh', '342', '21', 'def']\n",
      "(342, 21)\n"
     ]
    }
   ],
   "source": [
    "#Bài 2: Xây dựng hàm với tham số là một chuỗi các kí tự bất kỳ gồm chữ cái và chữ số. \n",
    "#Các số trong chuỗi được xác định bởi các dấu cách. \n",
    "#Chức năng của hàm là tìm số chẵn lớn nhất, số lẻ nhỏ nhất từ tham số chuỗi. \n",
    "#Ví dụ giá trị của tham số là: \"abd 34 tr13 85 sh 342 21 def\" thì giá trị tìm được là 342 và 21\n",
    "chuoi = input('Nhap chuoi ki tu: ')\n",
    "chuoi = chuoi.split()\n",
    "print(text)\n",
    "\n",
    "def findnumber(number):\n",
    "    '''Ham tim so chan va so le nho nhat:\n",
    "    tham so: Nhap vao chuoi\n",
    "    ket qua: So chan lon nhat\n",
    "             So le nho nhat'''\n",
    "    so_chan = ''\n",
    "    so_le = ''\n",
    "    for i in chuoi:\n",
    "        if i.isnumeric():\n",
    "            if int(i)%2==0:\n",
    "                so_chan = int(i) if so_chan == '' else so_chan if so_chan > int(i) else int(i)\n",
    "            else:\n",
    "                so_le = int(i) if so_le == '' else so_le if so_le < int(i) else int(i)\n",
    "                \n",
    "    return so_chan, so_le\n",
    "a = findnumber(chuoi)\n",
    "print(a)\n"
   ]
  },
  {
   "cell_type": "code",
   "execution_count": null,
   "id": "d7a8a94b",
   "metadata": {},
   "outputs": [],
   "source": []
  }
 ],
 "metadata": {
  "kernelspec": {
   "display_name": "Python 3 (ipykernel)",
   "language": "python",
   "name": "python3"
  },
  "language_info": {
   "codemirror_mode": {
    "name": "ipython",
    "version": 3
   },
   "file_extension": ".py",
   "mimetype": "text/x-python",
   "name": "python",
   "nbconvert_exporter": "python",
   "pygments_lexer": "ipython3",
   "version": "3.9.12"
  }
 },
 "nbformat": 4,
 "nbformat_minor": 5
}
