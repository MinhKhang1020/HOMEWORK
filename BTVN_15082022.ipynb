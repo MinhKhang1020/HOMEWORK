{
 "cells": [
  {
   "cell_type": "code",
   "execution_count": 19,
   "id": "5503794b",
   "metadata": {},
   "outputs": [
    {
     "name": "stdout",
     "output_type": "stream",
     "text": [
      "Nhap chuỗi số: 4175795352685357\n",
      "['953', '853']\n"
     ]
    }
   ],
   "source": [
    "# 09543134247431035\n",
    "\n",
    "def findstr(text):\n",
    "    '''\n",
    "    Hàm tìm chuỗi con giảm dàn dài nhất:\n",
    "    \n",
    "    Parameters: Nhập vào chuỗi kí tự số (STR)\n",
    "    \n",
    "    Return: Chuỗi con giảm dần dài nhất.\n",
    "            None\n",
    "    '''\n",
    "    \n",
    "    result_str = ''\n",
    "    i = 0\n",
    "    while i < len(text):\n",
    "        result_str += text[i]\n",
    "        if i < len(text)-1:\n",
    "            if int(text[i+1]) >= int(text[i]): \n",
    "                result_str += ' '\n",
    "        i+=1\n",
    "        \n",
    "    split_result = result_str.split()\n",
    "    sort_result = sorted(split_result, reverse = True, key = len)\n",
    "    result = []\n",
    "    max_len = len(sort_result[0])\n",
    "    \n",
    "    if max_len == 1: \n",
    "        return None\n",
    "    else:\n",
    "        for chuoi_con in sort_result:\n",
    "            if len(chuoi_con) == max_len: \n",
    "                result.append(chuoi_con)\n",
    "        return result\n",
    "        \n",
    "\n",
    "text = input('Nhap chuỗi số: ')\n",
    "    \n",
    "a = findstr(text)\n",
    "print(a)\n",
    "    \n"
   ]
  },
  {
   "cell_type": "code",
   "execution_count": null,
   "id": "004dca47",
   "metadata": {},
   "outputs": [],
   "source": []
  }
 ],
 "metadata": {
  "kernelspec": {
   "display_name": "Python 3 (ipykernel)",
   "language": "python",
   "name": "python3"
  },
  "language_info": {
   "codemirror_mode": {
    "name": "ipython",
    "version": 3
   },
   "file_extension": ".py",
   "mimetype": "text/x-python",
   "name": "python",
   "nbconvert_exporter": "python",
   "pygments_lexer": "ipython3",
   "version": "3.9.12"
  }
 },
 "nbformat": 4,
 "nbformat_minor": 5
}
