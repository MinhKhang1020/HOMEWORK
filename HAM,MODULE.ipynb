{
 "cells": [
  {
   "cell_type": "code",
   "execution_count": 5,
   "id": "ea92a2a1",
   "metadata": {},
   "outputs": [
    {
     "name": "stdout",
     "output_type": "stream",
     "text": [
      "120\n",
      "Hàm tính giai thừa của một số\n",
      "    Tham số: là một số bất kì\n",
      "    Kết quả: là giai thừa của một số\n"
     ]
    }
   ],
   "source": [
    "#Ví dụ: Định nghĩa HÀM  tính giai thừa của một số\n",
    "def giaithua(number):\n",
    "    '''Hàm tính giai thừa của một số\n",
    "    Tham số: là một số bất kì\n",
    "    Kết quả: là giai thừa của một số'''\n",
    "    result = 1\n",
    "    for i in range(2,number+1,1):\n",
    "        result *= i\n",
    "    #print(result)\n",
    "    return result                #Nên viết hàm trả về RETURN để tiếp tục tính toán và in ra sau \n",
    "giaithua(5)      \n",
    "a = giaithua(5) + giaithua(3)      \n",
    "print(a)\n",
    "print(giaithua.__doc__) #help(giaithua) - Giải nghĩa HÀM\n"
   ]
  },
  {
   "cell_type": "code",
   "execution_count": 13,
   "id": "a56bfa03",
   "metadata": {},
   "outputs": [
    {
     "name": "stdout",
     "output_type": "stream",
     "text": [
      "Nhập văn bản: Hàm là một tập hợp các tập lệnh Python\n",
      "Ham la mot tap hop cac tap lenh Python\n"
     ]
    }
   ],
   "source": [
    "#BÀI TẬP: Tiếng việt có dấu sang không dấu\n",
    "def vi_to_en(name) :\n",
    "    '''Hàm chuyển đổi Tiếng Việt sang Tiếng Anh\n",
    "    tham số: Nhập chuỗi cần chuyển đổi\n",
    "    kết quả: Chuỗi đã chuyển sang không dấu'''\n",
    "    a1 = 'áàảãạấầẩẫậắằẳẵặâă'\n",
    "    a2 = 'ÁÀẢÃẠẤẦẨẪẬẮẰẲẴẶÂĂ'\n",
    "    e1 = 'éèẻẽẹếềểễệê'\n",
    "    e2 = 'ÉÈẺẼẸẾỀỂỄỆÊ'\n",
    "    u1 = 'úùủũụứừửữựư'\n",
    "    u2 = 'ÚÙỦŨỤỨỪỬỮỰƯ'\n",
    "    i1 = 'íìỉĩị'\n",
    "    i2 = 'ÍÌỈĨỊ'\n",
    "    o1 = 'óòỏõọốồổỗộớờởỡợôơ'\n",
    "    o2 = 'ÓÒỎÕỌỐỒỔỖỘỚỜỞỠỢÔƠ'\n",
    "    d1 = 'đ'\n",
    "    d2 = 'Đ'\n",
    "    y1 = 'yýỳỷỹỵ'\n",
    "    y2 = 'YÝỲỶỸỴ'\n",
    "    newname = ''\n",
    "    for i in name:\n",
    "        if i in a1:\n",
    "            newname += 'a'\n",
    "        elif i in a2:\n",
    "            newname += 'A'\n",
    "        elif i in e1:\n",
    "            newname += 'e'\n",
    "        elif i in e2:\n",
    "            newname += 'E'\n",
    "        elif i in u1:\n",
    "            newname += 'u'\n",
    "        elif i in u2:\n",
    "            newname += 'U'\n",
    "        elif i in i1:\n",
    "            newname += 'i'\n",
    "        elif i in i2:\n",
    "            newname += 'I'\n",
    "        elif i in o1:\n",
    "            newname += 'o'\n",
    "        elif i in o2:\n",
    "            newname += 'O'\n",
    "        elif i in d1:\n",
    "            newname += 'd'\n",
    "        elif i in d2:\n",
    "            newname += 'D'\n",
    "        elif i in y1:\n",
    "            newname += 'y'\n",
    "        elif i in y2:\n",
    "            newname += 'Y'\n",
    "        else:\n",
    "            newname += i\n",
    "    return newname\n",
    "    \n",
    "\n",
    "a = vi_to_en(input('Nhập văn bản: '))\n",
    "print(a)\n",
    "        "
   ]
  },
  {
   "cell_type": "code",
   "execution_count": 2,
   "id": "629d7fa6",
   "metadata": {},
   "outputs": [
    {
     "name": "stdout",
     "output_type": "stream",
     "text": [
      "Nhap so nguyen 1: 50\n",
      "Nhap so nguyen 2: 40\n",
      "UCLN là :  10\n"
     ]
    }
   ],
   "source": [
    "#Tim UCLN\n",
    "\n",
    "def UCLN(number1,number2):\n",
    "    '''HÀM TÌM ƯỚC CHUNG LỚN NHẤT CỦA 2 SỐ NGUYÊN\n",
    "    Tham số: Nhập vào 2 số tự nhiên bất kì\n",
    "    Kết quả: Ước chung lớn nhất của 2 số'''\n",
    "    i = 1\n",
    "    while i<=a and i<=b:\n",
    "        if a%i==0 and b%i==0:\n",
    "            ucln = i\n",
    "        i +=1\n",
    "    return ucln\n",
    "a = int(input('Nhap so nguyen 1: '))\n",
    "b = int(input('Nhap so nguyen 2: '))\n",
    "u = UCLN(a, b)\n",
    "print('UCLN là : ',u)\n"
   ]
  },
  {
   "cell_type": "code",
   "execution_count": null,
   "id": "79b5193e",
   "metadata": {},
   "outputs": [],
   "source": [
    "#Bài 2: Trong các công ty sản xuất, thời gian trong tháng được chia làm các tuần. \n",
    "#Tuần đầy đủ (gọi là tuần chẵn) được tính từ thứ 2 đến chủ nhật (có đầy đủ các ngày), \n",
    "#còn tuần lẻ là các tuần không đủ 7 ngày. \n",
    "#Nhập vào tháng và năm, tính số tuần (bao gồm chẵn và lẻ) trong tháng đó.\n",
    "import calendar\n",
    "x = 0\n",
    "y = 0\n",
    "m = calendar.monthcalendar(2022,8)\n",
    "print(m)\n",
    "for i in m:\n",
    "    n = 0\n",
    "    for a in i:\n",
    "        if a == 0:\n",
    "            n+=1\n",
    "    if n>0:\n",
    "        y+=1\n",
    "    else:\n",
    "        x+=1\n",
    "print('Số tuần chẵn là: ',x)\n",
    "print('Số tuần lẻ là: ',y)"
   ]
  },
  {
   "cell_type": "code",
   "execution_count": 8,
   "id": "348bd873",
   "metadata": {},
   "outputs": [
    {
     "name": "stdout",
     "output_type": "stream",
     "text": [
      "1 * 1 = 1     2 * 1 = 2     3 * 1 = 3     4 * 1 = 4     5 * 1 = 5     6 * 1 = 6     7 * 1 = 7     8 * 1 = 8     9 * 1 = 9     \n",
      "1 * 2 = 2     2 * 2 = 4     3 * 2 = 6     4 * 2 = 8     5 * 2 = 10    6 * 2 = 12    7 * 2 = 14    8 * 2 = 16    9 * 2 = 18    \n",
      "1 * 3 = 3     2 * 3 = 6     3 * 3 = 9     4 * 3 = 12    5 * 3 = 15    6 * 3 = 18    7 * 3 = 21    8 * 3 = 24    9 * 3 = 27    \n",
      "1 * 4 = 4     2 * 4 = 8     3 * 4 = 12    4 * 4 = 16    5 * 4 = 20    6 * 4 = 24    7 * 4 = 28    8 * 4 = 32    9 * 4 = 36    \n",
      "1 * 5 = 5     2 * 5 = 10    3 * 5 = 15    4 * 5 = 20    5 * 5 = 25    6 * 5 = 30    7 * 5 = 35    8 * 5 = 40    9 * 5 = 45    \n",
      "1 * 6 = 6     2 * 6 = 12    3 * 6 = 18    4 * 6 = 24    5 * 6 = 30    6 * 6 = 36    7 * 6 = 42    8 * 6 = 48    9 * 6 = 54    \n",
      "1 * 7 = 7     2 * 7 = 14    3 * 7 = 21    4 * 7 = 28    5 * 7 = 35    6 * 7 = 42    7 * 7 = 49    8 * 7 = 56    9 * 7 = 63    \n",
      "1 * 8 = 8     2 * 8 = 16    3 * 8 = 24    4 * 8 = 32    5 * 8 = 40    6 * 8 = 48    7 * 8 = 56    8 * 8 = 64    9 * 8 = 72    \n",
      "1 * 9 = 9     2 * 9 = 18    3 * 9 = 27    4 * 9 = 36    5 * 9 = 45    6 * 9 = 54    7 * 9 = 63    8 * 9 = 72    9 * 9 = 81    \n",
      "9\n"
     ]
    }
   ],
   "source": [
    "#Bảng cửu chương\n",
    "def bangcuuchuong():\n",
    "    '''BẢNG CỬU CHƯƠNG\n",
    "    Không cần tham số\n",
    "    Kết quả là bảng cửu chương'''\n",
    "    for j in range(1,10,1):\n",
    "        for i in range(1,10,1):\n",
    "            print(f'{i} * {j} = {i*j}'.ljust(14,' '), end='')\n",
    "        print('')\n",
    "    return j\n",
    "a = bangcuuchuong()\n",
    "print(a)"
   ]
  },
  {
   "cell_type": "code",
   "execution_count": 11,
   "id": "dd77cd68",
   "metadata": {},
   "outputs": [
    {
     "name": "stdout",
     "output_type": "stream",
     "text": [
      "Nhap so phut goi dien thoai: 30\n",
      "43000\n"
     ]
    }
   ],
   "source": [
    "#TÍNH TIỀN ĐIỆN THOẠI\n",
    "def tiendt(number):\n",
    "    '''Tính số tiền điện thoại phải trả\n",
    "    tham số: nhập số phút đã sử dụng\n",
    "    kết quả: số tiền điện phải trả'''\n",
    "    a = 25000\n",
    "    if m <=50:\n",
    "        tien = a + m*600\n",
    "        \n",
    "    elif m>50 and m<=200:\n",
    "        tien = a + (m-50)*400 + 50*600\n",
    "        \n",
    "    else:\n",
    "        tien = a + (m-200)*200 + 50*600 + (m-50)*400\n",
    "        \n",
    "    return tien\n",
    "m = int(input('Nhap so phut goi dien thoai: '))\n",
    "money = tiendt(m)\n",
    "print('Số tiền phải trả là: ',money)"
   ]
  },
  {
   "cell_type": "code",
   "execution_count": 13,
   "id": "6ccfb7cf",
   "metadata": {},
   "outputs": [
    {
     "name": "stdout",
     "output_type": "stream",
     "text": [
      "Nhập vào số điện tiêu dùng trong tháng: 300\n",
      "Số tiền điện cần trả trong tháng là:  607600 VNĐ\n"
     ]
    }
   ],
   "source": [
    "#TÍNH TIỀN ĐIỆN\n",
    "def tiendien(number):\n",
    "    '''Tính số tiền điện phải trả\n",
    "    tham số: nhập số điện sử dụng\n",
    "    kết quả: số tiền điện phải trả'''\n",
    "    money = ('tien dien phai tra')\n",
    "    if e<=50 and e>0:\n",
    "        money = e*1678\n",
    "    elif e>50 and e<=100:\n",
    "        money = (e-50)*1734 +  50*1678\n",
    "    elif e>100 and e<=200:\n",
    "        money = (e-100)*2014 + 50*1734 + 50*1678\n",
    "    elif e>200 and e<=300:\n",
    "        money = (e-200)*2356 + 100*2014 + 50*1734 + 50*1678\n",
    "    elif e>300 and e<=400:\n",
    "        money = (e-300)*2834 + 100*2356 + 100*2014 + 50*1734 + 50*1678\n",
    "    else:\n",
    "        money = (e-400)*2927 + 100*2834 + 100*2356 + 100*2014 + 50*1734 + 50*1678\n",
    "    return money\n",
    "e = int(input('Nhập vào số điện tiêu dùng trong tháng: '))\n",
    "m = tiendien(e)\n",
    "print('Số tiền điện cần trả trong tháng là: ',m, 'VNĐ')"
   ]
  },
  {
   "cell_type": "code",
   "execution_count": 23,
   "id": "926c087b",
   "metadata": {},
   "outputs": [
    {
     "name": "stdout",
     "output_type": "stream",
     "text": [
      "a = 3\n",
      "b = 3\n",
      "c = 3\n",
      "3x^2+3+3\n"
     ]
    }
   ],
   "source": [
    "#Bài 2: Nhập a, b, c là hệ số của một đa thức bậc 2. In ra phương trình bậc 2 dưới dạng chuẩn \n",
    "\n",
    "def ptbac2(number1,number2,number3):\n",
    "    '''In ra phương trình bậc 2 dạng chuẩn:\n",
    "    Tham số: Nhập hệ số a,b,c của phương trình\n",
    "    Kết quả: Phương trình bậc 2 dạng chuẩn'''\n",
    "    A = str(a)+'x^2'\n",
    "    B = str(b)+'x'\n",
    "    C = str(c)\n",
    "    if a==0:\n",
    "        A = ''\n",
    "    elif a==-1:\n",
    "        A = '-x^2'\n",
    "    elif a==1:\n",
    "        A = 'x^2'\n",
    "    \n",
    "    if b==0:\n",
    "        B = ''\n",
    "    elif b==1:\n",
    "        B = '+ x'\n",
    "    elif b==-1:\n",
    "        B = '-x'\n",
    "    else:\n",
    "        B = '+'+str(b)\n",
    "    if c==0:\n",
    "        C = ''\n",
    "    else:\n",
    "        C = '+'+str(c)\n",
    "    pt = A+B+C\n",
    "    return pt\n",
    "a = int(input('a = '))\n",
    "b = int(input('b = '))\n",
    "c = int(input('c = '))\n",
    "ptrinh = ptbac2(a,b,c)\n",
    "print(ptrinh)"
   ]
  },
  {
   "cell_type": "code",
   "execution_count": 25,
   "id": "a723da0e",
   "metadata": {},
   "outputs": [
    {
     "name": "stdout",
     "output_type": "stream",
     "text": [
      "Nhập số tự nhiên a: 5\n",
      "Nhập số tự nhiên b: 5\n",
      "Nhập số tự nhiên c: 2\n",
      "Không phải pytago\n",
      "None\n"
     ]
    }
   ],
   "source": [
    "#KIỂM TRA CÓ PHẢI LÀ HỆ SỐ PYTAGO \n",
    "a = int(input('Nhập số tự nhiên a: '))\n",
    "b = int(input('Nhập số tự nhiên b: '))\n",
    "c = int(input('Nhập số tự nhiên c: '))\n",
    "def pytago(number1,number2,number3):\n",
    "    '''Kiểm tra có phải là hệ số Pytago\n",
    "    tham số: nhập vào 3 số tự  nhiên\n",
    "    kết quả: Có hoặc Không'''\n",
    "    if c**2 == b**2 + a**2:\n",
    "        p = print('Là hệ số Pytago')\n",
    "    else:\n",
    "        p = print('Không phải hệ số Pytago')\n",
    "    return p\n",
    "m = pytago(a,b,c)\n",
    "\n"
   ]
  },
  {
   "cell_type": "code",
   "execution_count": 32,
   "id": "c3527c87",
   "metadata": {},
   "outputs": [
    {
     "name": "stdout",
     "output_type": "stream",
     "text": [
      "Nhập số N: 5\n"
     ]
    }
   ],
   "source": [
    "#Nhập vào 1 số N\n",
    "#In ra màn hình tất cả các số là ƯỚC của N\n",
    "#VD: Nhập vào 12 thì in ra 1,2,3,4,6,12\n",
    "\n",
    "def UOC(number):\n",
    "    '''Tìm ước của số tự nhiên N\n",
    "    tham số: nhập số cần tìm ước\n",
    "    kết quả: tất cả ước của số đó'''\n",
    "    i = 1\n",
    "    while i<=N:\n",
    "        if N%i==0:\n",
    "            print('Ước của số tự nhiên N là: ',i)\n",
    "        i+=1\n",
    "        \n",
    "    return \n",
    "N = int(input('Nhập số N: '))\n",
    "u = UOC(N)\n",
    "\n"
   ]
  },
  {
   "cell_type": "code",
   "execution_count": 2,
   "id": "d2171ee9",
   "metadata": {},
   "outputs": [
    {
     "name": "stdout",
     "output_type": "stream",
     "text": [
      "Nhập số N: 60\n",
      "60 là số hợp số\n"
     ]
    }
   ],
   "source": [
    "#Nhập vào 1 số N\n",
    "#Kiểm tra xem N là số nguyên tố hay hợp số\n",
    "\n",
    "def checknumber(number):\n",
    "    '''Kiểm tra là số Nguyên tố hay Hợp số\n",
    "    tham số: nhập số tự nhiên\n",
    "    kết quả: nguyên tố or hợp số'''\n",
    "    i = 2\n",
    "    count = 0\n",
    "    while i<=N/2:\n",
    "        if N%i==0:\n",
    "            count+=1\n",
    "            break\n",
    "        i+=1\n",
    "    if count > 0:\n",
    "        print(f'{N} là số hợp số')\n",
    "    else:\n",
    "        print(f'{N} là số nguyên tố')\n",
    "    return\n",
    "N = int(input('Nhập số N: '))\n",
    "s = checknumber(N)"
   ]
  },
  {
   "cell_type": "code",
   "execution_count": null,
   "id": "f7c709ae",
   "metadata": {},
   "outputs": [],
   "source": [
    "#Bài 1\n",
    "t = int(input('Nhập thu nhập tính thuế: '))\n",
    "\n",
    "if 0<t<=5000000:\n",
    "    thue = t * (5/100)\n",
    "elif 5000000<t<=10000000:\n",
    "    thue = t * (10/100)\n",
    "elif 10000000<t<=18000000:\n",
    "    thue = t * (18/100)\n",
    "elif 18000000<t<=32000000:\n",
    "    thue = t * (20/100)\n",
    "elif 32000000<t<=52000000:\n",
    "    thue = t * (25/100)\n",
    "elif 52000000<t<=80000000:\n",
    "    thue = t * (30/100)\n",
    "elif 80000000<t:\n",
    "    thue = t * (35/100)\n",
    "print('Thuế TNCN phải đóng là: ',thue,'VND')\n",
    "a = 11000000\n",
    "b = 4400000\n",
    "\n",
    "Songuoiphuthuoc = input('Nhap so nguoi phu thuoc: ')\n",
    "thunhap = int(t) - int(a) - int(Songuoiphuthuoc) * int(b)\n",
    "ThueTNCN = thue - thunhap\n",
    "print('Thuế TNCN phải đóng sau khi giảm trừ là: ',ThueTNCN, 'VNĐ')\n"
   ]
  },
  {
   "cell_type": "code",
   "execution_count": null,
   "id": "ec771019",
   "metadata": {},
   "outputs": [],
   "source": [
    "#KIỂM TRA MÃ VẠCH\n",
    "def  barcode(number):\n",
    "    '''kiểm tra mã vạch đúng hay sai\n",
    "    tham số: nhập mã vạch\n",
    "    kết quả: đúng or sai'''\n",
    "    i = 0\n",
    "    A = 0\n",
    "    B = 0\n",
    "    if len(n)!=13:\n",
    "        print('Error')\n",
    "\n",
    "    while i<12:\n",
    "        if i%2 == 0:\n",
    "            A += int(n[i])\n",
    "            i += 1\n",
    "        elif i%2 != 0:\n",
    "            B += int(n[i])\n",
    "            i += 1\n",
    "\n",
    "    D = A + 3*B\n",
    "\n",
    "    if D%10 != 0:\n",
    "        F = 10 - D%10\n",
    "    else:\n",
    "        F = 0\n",
    "    if F == int(n[-1]):\n",
    "        print('Mã vạch đúng')\n",
    "    else:\n",
    "        print('Mã vạch sai')\n",
    "    return\n",
    "n = input('Nhập mã vạch cần kiểm tra: ')\n",
    "mv = barcode(n)"
   ]
  },
  {
   "cell_type": "code",
   "execution_count": null,
   "id": "d4b1183a",
   "metadata": {},
   "outputs": [],
   "source": []
  }
 ],
 "metadata": {
  "kernelspec": {
   "display_name": "Python 3 (ipykernel)",
   "language": "python",
   "name": "python3"
  },
  "language_info": {
   "codemirror_mode": {
    "name": "ipython",
    "version": 3
   },
   "file_extension": ".py",
   "mimetype": "text/x-python",
   "name": "python",
   "nbconvert_exporter": "python",
   "pygments_lexer": "ipython3",
   "version": "3.9.12"
  }
 },
 "nbformat": 4,
 "nbformat_minor": 5
}
